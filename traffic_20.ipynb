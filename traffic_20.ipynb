{
  "nbformat": 4,
  "nbformat_minor": 0,
  "metadata": {
    "colab": {
      "provenance": []
    },
    "kernelspec": {
      "name": "python3",
      "display_name": "Python 3"
    },
    "language_info": {
      "name": "python"
    }
  },
  "cells": [
    {
      "cell_type": "code",
      "execution_count": null,
      "metadata": {
        "id": "Obt4xAgRP976"
      },
      "outputs": [],
      "source": [
        "from sklearn.preprocessing import OneHotEncoder\n",
        "from flask import Flask, render_template,request\n",
        "from sklearn.preprocessing import StandardScaler,MinMaxScaler\n",
        "from sklearn.neural_network import MLPRegressor\n",
        "\n",
        "import seaborn as sb\n",
        "import warnings\n",
        "import matplotlib.pyplot as plt\n",
        "import pandas as pd\n",
        "import numpy as np\n",
        "from datetime import datetime,timedelta"
      ]
    },
    {
      "cell_type": "code",
      "source": [
        "def posix_time(dt):\n",
        "  return(dt - datetime(2024,7,18)).total_seconds"
      ],
      "metadata": {
        "id": "YYSfUqPVTB8o"
      },
      "execution_count": null,
      "outputs": []
    },
    {
      "cell_type": "code",
      "source": [
        "df = pd.read_csv(\"Train.csv\")"
      ],
      "metadata": {
        "id": "hrSgLJ_ATYGX"
      },
      "execution_count": null,
      "outputs": []
    },
    {
      "cell_type": "code",
      "source": [
        "df = df.sort_values(by=['date_time'],ascending=True).reset_index(drop=True)\n",
        "last_n_hours = [1,2,3,4,5,6]\n",
        "for n in last_n_hours:\n",
        "    data[f'last_{n}_hour_traffic'] = data['traffic_volume'].shift(n)\n",
        "df=df.dropna().reset_index(drop=True)\n",
        "df.loc[df.['is_holiday'] != 'None','is_holiday']=1\n",
        "  df.loc[df.['is_holiday'] == 'None','is_holiday']=0\n",
        "  df['is_holiday'] = df['is_holiday'].astype(int)\n",
        "\n",
        " df['date_time'] = pd.to_datetime(data['data_time'])\n",
        " df['hour'] = df['date_time'].map(lambda x:int(x.strftime('%H')))\n",
        " df['day'] = df['date_time'].map(lambda x:int(x.strftime('%d')))\n",
        " df['weekday'] = df['date_time'].map(lambda x:int(x.weekday()+1)\n",
        " df['month'] = df['date_time'].map(lambda x:int(x.strftime('%m')))\n",
        " df['year'] = df['date_time'].map(lambda x:int(x.strftime('%Y')))\n",
        " df.to_csv('traffic_volume_data(1).csv',index=None)\n",
        "\n"
      ],
      "metadata": {
        "colab": {
          "base_uri": "https://localhost:8080/",
          "height": 106
        },
        "id": "iri8lAr-UBaL",
        "outputId": "f1129a43-5691-4c8f-dc94-b6a7661daba2"
      },
      "execution_count": null,
      "outputs": [
        {
          "output_type": "error",
          "ename": "IndentationError",
          "evalue": "unindent does not match any outer indentation level (<tokenize>, line 5)",
          "traceback": [
            "\u001b[0;36m  File \u001b[0;32m\"<tokenize>\"\u001b[0;36m, line \u001b[0;32m5\u001b[0m\n\u001b[0;31m    df=df.dropna().reset_index(drop=True)\u001b[0m\n\u001b[0m    ^\u001b[0m\n\u001b[0;31mIndentationError\u001b[0m\u001b[0;31m:\u001b[0m unindent does not match any outer indentation level\n"
          ]
        }
      ]
    }
  ]
}